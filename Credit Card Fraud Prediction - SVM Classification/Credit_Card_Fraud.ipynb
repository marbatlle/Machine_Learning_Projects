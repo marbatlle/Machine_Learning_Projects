{
 "cells": [
  {
   "cell_type": "markdown",
   "id": "italian-support",
   "metadata": {},
   "source": [
    "# Credit Card Fraud - SVM Classification"
   ]
  },
  {
   "cell_type": "markdown",
   "id": "compact-trainer",
   "metadata": {},
   "source": [
    "Welcome to my notebook! Let's see what SVM classification is all about. "
   ]
  },
  {
   "cell_type": "markdown",
   "id": "instructional-trademark",
   "metadata": {},
   "source": [
    "TOC:\n",
    "1. [Problem Framing](#t1.)\n",
    "2. [Assess Data Quality & Missing Values](#t2.)\n",
    "3. [Exploratory Data Analysis](#t3.)\n",
    "4. [Feature Engineering](#t4.)\n",
    "5. [Model Selection](#t5.)\n",
    "6. [Tessting the model](#t6.)\n",
    "7. [Presenting the Solution](#t7.)"
   ]
  },
  {
   "cell_type": "markdown",
   "id": "funny-discrimination",
   "metadata": {},
   "source": [
    "<a id=\"t1.\"></a>\n",
    "## 1. Problem Framing"
   ]
  },
  {
   "cell_type": "markdown",
   "id": "widespread-contrary",
   "metadata": {},
   "source": [
    "### Problem Definition\n",
    "\n",
    "It is important that credit card companies are able to recognize fraudulent credit card transactions so that customers are not charged for items that they did not purchase.\n",
    "\n",
    "This is a standard binary classification task. The datasets contains transactions made by credit cards in September 2013 by european cardholders. It contains only numerical input variables which are the result of a PCA transformation.\n",
    "\n",
    "This dataset presents transactions that occurred in two days, where we have 492 frauds out of 284,807 transactions. The dataset is highly unbalanced, the positive class (frauds) account for 0.172% of all transactions."
   ]
  },
  {
   "cell_type": "markdown",
   "id": "cheap-saturn",
   "metadata": {},
   "source": [
    "### The Data\n",
    "\n",
    "The datasets contains transactions made by credit cards in September 2013 by european cardholders. It contains only numerical input variables which are the result of a PCA transformation.\n",
    "\n",
    "This dataset presents transactions that occurred in two days, where we have 492 frauds out of 284,807 transactions. The dataset is highly unbalanced, the positive class (frauds) account for 0.172% of all transactions.\n",
    "\n",
    "The dataset has been collected and analysed during a research collaboration of Worldline and the Machine Learning Group (http://mlg.ulb.ac.be) of ULB (Université Libre de Bruxelles) on big data mining and fraud detection.\n",
    "\n",
    "More details on current and past projects on related topics are available on https://www.researchgate.net/project/Fraud-detection-5 and the page of the DefeatFraud project"
   ]
  },
  {
   "cell_type": "markdown",
   "id": "harmful-identifier",
   "metadata": {},
   "source": [
    "### Preparing the tools"
   ]
  },
  {
   "cell_type": "code",
   "execution_count": 1,
   "id": "historical-permit",
   "metadata": {},
   "outputs": [
    {
     "name": "stdout",
     "output_type": "stream",
     "text": [
      "Set up completed\n"
     ]
    }
   ],
   "source": [
    "#basic libraries\n",
    "import numpy as np\n",
    "import pandas as pd\n",
    "\n",
    "#seed the project\n",
    "np.random.seed(64)\n",
    "\n",
    "#warning handle\n",
    "import warnings\n",
    "warnings.filterwarnings(\"ignore\")\n",
    "\n",
    "\n",
    "print(\"Set up completed\")"
   ]
  },
  {
   "cell_type": "markdown",
   "id": "mounted-mileage",
   "metadata": {},
   "source": [
    "### Load the Data"
   ]
  },
  {
   "cell_type": "code",
   "execution_count": 2,
   "id": "artificial-parliament",
   "metadata": {},
   "outputs": [],
   "source": [
    "# Import train and test data\n",
    "data = pd.read_csv('data/creditcard.csv')"
   ]
  },
  {
   "cell_type": "code",
   "execution_count": 3,
   "id": "favorite-actress",
   "metadata": {},
   "outputs": [
    {
     "data": {
      "text/html": [
       "<div>\n",
       "<style scoped>\n",
       "    .dataframe tbody tr th:only-of-type {\n",
       "        vertical-align: middle;\n",
       "    }\n",
       "\n",
       "    .dataframe tbody tr th {\n",
       "        vertical-align: top;\n",
       "    }\n",
       "\n",
       "    .dataframe thead th {\n",
       "        text-align: right;\n",
       "    }\n",
       "</style>\n",
       "<table border=\"1\" class=\"dataframe\">\n",
       "  <thead>\n",
       "    <tr style=\"text-align: right;\">\n",
       "      <th></th>\n",
       "      <th>Time</th>\n",
       "      <th>V1</th>\n",
       "      <th>V2</th>\n",
       "      <th>V3</th>\n",
       "      <th>V4</th>\n",
       "      <th>V5</th>\n",
       "      <th>V6</th>\n",
       "      <th>V7</th>\n",
       "      <th>V8</th>\n",
       "      <th>V9</th>\n",
       "      <th>...</th>\n",
       "      <th>V21</th>\n",
       "      <th>V22</th>\n",
       "      <th>V23</th>\n",
       "      <th>V24</th>\n",
       "      <th>V25</th>\n",
       "      <th>V26</th>\n",
       "      <th>V27</th>\n",
       "      <th>V28</th>\n",
       "      <th>Amount</th>\n",
       "      <th>Class</th>\n",
       "    </tr>\n",
       "  </thead>\n",
       "  <tbody>\n",
       "    <tr>\n",
       "      <th>0</th>\n",
       "      <td>0.0</td>\n",
       "      <td>-1.359807</td>\n",
       "      <td>-0.072781</td>\n",
       "      <td>2.536347</td>\n",
       "      <td>1.378155</td>\n",
       "      <td>-0.338321</td>\n",
       "      <td>0.462388</td>\n",
       "      <td>0.239599</td>\n",
       "      <td>0.098698</td>\n",
       "      <td>0.363787</td>\n",
       "      <td>...</td>\n",
       "      <td>-0.018307</td>\n",
       "      <td>0.277838</td>\n",
       "      <td>-0.110474</td>\n",
       "      <td>0.066928</td>\n",
       "      <td>0.128539</td>\n",
       "      <td>-0.189115</td>\n",
       "      <td>0.133558</td>\n",
       "      <td>-0.021053</td>\n",
       "      <td>149.62</td>\n",
       "      <td>0</td>\n",
       "    </tr>\n",
       "    <tr>\n",
       "      <th>1</th>\n",
       "      <td>0.0</td>\n",
       "      <td>1.191857</td>\n",
       "      <td>0.266151</td>\n",
       "      <td>0.166480</td>\n",
       "      <td>0.448154</td>\n",
       "      <td>0.060018</td>\n",
       "      <td>-0.082361</td>\n",
       "      <td>-0.078803</td>\n",
       "      <td>0.085102</td>\n",
       "      <td>-0.255425</td>\n",
       "      <td>...</td>\n",
       "      <td>-0.225775</td>\n",
       "      <td>-0.638672</td>\n",
       "      <td>0.101288</td>\n",
       "      <td>-0.339846</td>\n",
       "      <td>0.167170</td>\n",
       "      <td>0.125895</td>\n",
       "      <td>-0.008983</td>\n",
       "      <td>0.014724</td>\n",
       "      <td>2.69</td>\n",
       "      <td>0</td>\n",
       "    </tr>\n",
       "    <tr>\n",
       "      <th>2</th>\n",
       "      <td>1.0</td>\n",
       "      <td>-1.358354</td>\n",
       "      <td>-1.340163</td>\n",
       "      <td>1.773209</td>\n",
       "      <td>0.379780</td>\n",
       "      <td>-0.503198</td>\n",
       "      <td>1.800499</td>\n",
       "      <td>0.791461</td>\n",
       "      <td>0.247676</td>\n",
       "      <td>-1.514654</td>\n",
       "      <td>...</td>\n",
       "      <td>0.247998</td>\n",
       "      <td>0.771679</td>\n",
       "      <td>0.909412</td>\n",
       "      <td>-0.689281</td>\n",
       "      <td>-0.327642</td>\n",
       "      <td>-0.139097</td>\n",
       "      <td>-0.055353</td>\n",
       "      <td>-0.059752</td>\n",
       "      <td>378.66</td>\n",
       "      <td>0</td>\n",
       "    </tr>\n",
       "    <tr>\n",
       "      <th>3</th>\n",
       "      <td>1.0</td>\n",
       "      <td>-0.966272</td>\n",
       "      <td>-0.185226</td>\n",
       "      <td>1.792993</td>\n",
       "      <td>-0.863291</td>\n",
       "      <td>-0.010309</td>\n",
       "      <td>1.247203</td>\n",
       "      <td>0.237609</td>\n",
       "      <td>0.377436</td>\n",
       "      <td>-1.387024</td>\n",
       "      <td>...</td>\n",
       "      <td>-0.108300</td>\n",
       "      <td>0.005274</td>\n",
       "      <td>-0.190321</td>\n",
       "      <td>-1.175575</td>\n",
       "      <td>0.647376</td>\n",
       "      <td>-0.221929</td>\n",
       "      <td>0.062723</td>\n",
       "      <td>0.061458</td>\n",
       "      <td>123.50</td>\n",
       "      <td>0</td>\n",
       "    </tr>\n",
       "    <tr>\n",
       "      <th>4</th>\n",
       "      <td>2.0</td>\n",
       "      <td>-1.158233</td>\n",
       "      <td>0.877737</td>\n",
       "      <td>1.548718</td>\n",
       "      <td>0.403034</td>\n",
       "      <td>-0.407193</td>\n",
       "      <td>0.095921</td>\n",
       "      <td>0.592941</td>\n",
       "      <td>-0.270533</td>\n",
       "      <td>0.817739</td>\n",
       "      <td>...</td>\n",
       "      <td>-0.009431</td>\n",
       "      <td>0.798278</td>\n",
       "      <td>-0.137458</td>\n",
       "      <td>0.141267</td>\n",
       "      <td>-0.206010</td>\n",
       "      <td>0.502292</td>\n",
       "      <td>0.219422</td>\n",
       "      <td>0.215153</td>\n",
       "      <td>69.99</td>\n",
       "      <td>0</td>\n",
       "    </tr>\n",
       "  </tbody>\n",
       "</table>\n",
       "<p>5 rows × 31 columns</p>\n",
       "</div>"
      ],
      "text/plain": [
       "   Time        V1        V2        V3        V4        V5        V6        V7  \\\n",
       "0   0.0 -1.359807 -0.072781  2.536347  1.378155 -0.338321  0.462388  0.239599   \n",
       "1   0.0  1.191857  0.266151  0.166480  0.448154  0.060018 -0.082361 -0.078803   \n",
       "2   1.0 -1.358354 -1.340163  1.773209  0.379780 -0.503198  1.800499  0.791461   \n",
       "3   1.0 -0.966272 -0.185226  1.792993 -0.863291 -0.010309  1.247203  0.237609   \n",
       "4   2.0 -1.158233  0.877737  1.548718  0.403034 -0.407193  0.095921  0.592941   \n",
       "\n",
       "         V8        V9  ...       V21       V22       V23       V24       V25  \\\n",
       "0  0.098698  0.363787  ... -0.018307  0.277838 -0.110474  0.066928  0.128539   \n",
       "1  0.085102 -0.255425  ... -0.225775 -0.638672  0.101288 -0.339846  0.167170   \n",
       "2  0.247676 -1.514654  ...  0.247998  0.771679  0.909412 -0.689281 -0.327642   \n",
       "3  0.377436 -1.387024  ... -0.108300  0.005274 -0.190321 -1.175575  0.647376   \n",
       "4 -0.270533  0.817739  ... -0.009431  0.798278 -0.137458  0.141267 -0.206010   \n",
       "\n",
       "        V26       V27       V28  Amount  Class  \n",
       "0 -0.189115  0.133558 -0.021053  149.62      0  \n",
       "1  0.125895 -0.008983  0.014724    2.69      0  \n",
       "2 -0.139097 -0.055353 -0.059752  378.66      0  \n",
       "3 -0.221929  0.062723  0.061458  123.50      0  \n",
       "4  0.502292  0.219422  0.215153   69.99      0  \n",
       "\n",
       "[5 rows x 31 columns]"
      ]
     },
     "execution_count": 3,
     "metadata": {},
     "output_type": "execute_result"
    }
   ],
   "source": [
    "data.head()"
   ]
  },
  {
   "cell_type": "markdown",
   "id": "usual-tutorial",
   "metadata": {},
   "source": [
    "We can see that none of the features have a title or description, this was done to preserve privacy of the credit cards owners. We'll have to work around that."
   ]
  },
  {
   "cell_type": "code",
   "execution_count": 4,
   "id": "close-recommendation",
   "metadata": {},
   "outputs": [
    {
     "name": "stdout",
     "output_type": "stream",
     "text": [
      "DF has 284807 rows and 31 columns\n"
     ]
    }
   ],
   "source": [
    "print (f\"DF has {data.shape[0]} rows and {data.shape[1]} columns\")"
   ]
  },
  {
   "cell_type": "markdown",
   "id": "binding-natural",
   "metadata": {},
   "source": [
    "<a id=\"t2.\"></a>\n",
    "## 2. Data Quality & Missing Values Assessment"
   ]
  },
  {
   "cell_type": "markdown",
   "id": "generous-lesbian",
   "metadata": {},
   "source": [
    "### Data Types\n",
    "\n",
    "We can see our dataset consist on different types of data."
   ]
  },
  {
   "cell_type": "code",
   "execution_count": 5,
   "id": "medium-special",
   "metadata": {},
   "outputs": [
    {
     "data": {
      "text/plain": [
       "Time      float64\n",
       "V1        float64\n",
       "V2        float64\n",
       "V3        float64\n",
       "V4        float64\n",
       "V5        float64\n",
       "V6        float64\n",
       "V7        float64\n",
       "V8        float64\n",
       "V9        float64\n",
       "V10       float64\n",
       "V11       float64\n",
       "V12       float64\n",
       "V13       float64\n",
       "V14       float64\n",
       "V15       float64\n",
       "V16       float64\n",
       "V17       float64\n",
       "V18       float64\n",
       "V19       float64\n",
       "V20       float64\n",
       "V21       float64\n",
       "V22       float64\n",
       "V23       float64\n",
       "V24       float64\n",
       "V25       float64\n",
       "V26       float64\n",
       "V27       float64\n",
       "V28       float64\n",
       "Amount    float64\n",
       "Class       int64\n",
       "dtype: object"
      ]
     },
     "execution_count": 5,
     "metadata": {},
     "output_type": "execute_result"
    }
   ],
   "source": [
    "# Different data types in the dataset\n",
    "data.dtypes"
   ]
  },
  {
   "cell_type": "markdown",
   "id": "suited-qatar",
   "metadata": {},
   "source": [
    "We can see that all our features are in fact numerical, floats, to be exact, great."
   ]
  },
  {
   "cell_type": "markdown",
   "id": "gothic-ownership",
   "metadata": {},
   "source": [
    "### Missing Values\n",
    "\n",
    "Most ML algorithms have a hard time working with missing values, so let's see what our situation is. "
   ]
  },
  {
   "cell_type": "code",
   "execution_count": 6,
   "id": "daily-circumstances",
   "metadata": {},
   "outputs": [
    {
     "data": {
      "image/png": "[encoded data removed]",
      "text/plain": [
       "<Figure size 2160x720 with 2 Axes>"
      ]
     },
     "metadata": {
      "needs_background": "light"
     },
     "output_type": "display_data"
    }
   ],
   "source": [
    "# Plot graphic of missing values\n",
    "import missingno\n",
    "missingno.matrix(data, figsize = (30,10));"
   ]
  },
  {
   "cell_type": "code",
   "execution_count": 7,
   "id": "worthy-investment",
   "metadata": {},
   "outputs": [
    {
     "data": {
      "text/plain": [
       "Time      0\n",
       "V16       0\n",
       "Amount    0\n",
       "V28       0\n",
       "V27       0\n",
       "dtype: int64"
      ]
     },
     "execution_count": 7,
     "metadata": {},
     "output_type": "execute_result"
    }
   ],
   "source": [
    "data.isnull().sum().sort_values(ascending = False).head(5)"
   ]
  },
  {
   "cell_type": "markdown",
   "id": "contained-oracle",
   "metadata": {},
   "source": [
    "Awesome, no missing values. Let's continue"
   ]
  },
  {
   "cell_type": "markdown",
   "id": "domestic-conviction",
   "metadata": {},
   "source": [
    "<a id=\"t2.\"></a>\n",
    "## 3. Exploration Data Analysis"
   ]
  },
  {
   "cell_type": "code",
   "execution_count": 8,
   "id": "olympic-tracy",
   "metadata": {},
   "outputs": [],
   "source": [
    "# Visualization \n",
    "import matplotlib.pyplot as plt\n",
    "import missingno\n",
    "import seaborn as sns\n",
    "plt.style.use('seaborn-whitegrid')\n",
    "sns.set_palette(\"Set2\")"
   ]
  },
  {
   "cell_type": "markdown",
   "id": "ethical-chart",
   "metadata": {},
   "source": [
    "### Target Feature: Class\n",
    "\n",
    "Description: 1 for fraudulent transactions, 0 otherwise"
   ]
  },
  {
   "cell_type": "code",
   "execution_count": 9,
   "id": "honey-permission",
   "metadata": {},
   "outputs": [
    {
     "data": {
      "image/png": "[encoded data removed]",
      "text/plain": [
       "<Figure size 432x288 with 1 Axes>"
      ]
     },
     "metadata": {},
     "output_type": "display_data"
    }
   ],
   "source": [
    "# Visualize the count of survivors\n",
    "sns.countplot('Class', data=data);"
   ]
  },
  {
   "cell_type": "code",
   "execution_count": 10,
   "id": "accessible-plaza",
   "metadata": {},
   "outputs": [
    {
     "data": {
      "text/plain": [
       "Counter({0: 284315, 1: 492})"
      ]
     },
     "execution_count": 10,
     "metadata": {},
     "output_type": "execute_result"
    }
   ],
   "source": [
    "from collections import Counter\n",
    "Counter(data.Class)"
   ]
  },
  {
   "cell_type": "markdown",
   "id": "alpine-union",
   "metadata": {},
   "source": [
    "Class is a binary target with 492 instances of known fraud and 284,315 instances of non-fraud. Thats a ratio of:"
   ]
  },
  {
   "cell_type": "code",
   "execution_count": 11,
   "id": "actual-exclusion",
   "metadata": {},
   "outputs": [
    {
     "name": "stdout",
     "output_type": "stream",
     "text": [
      "Fraud to NonFraud Ratio of 0.173%\n"
     ]
    }
   ],
   "source": [
    "print(\"Fraud to NonFraud Ratio of {:.3f}%\".format(492/284315*100))"
   ]
  },
  {
   "cell_type": "markdown",
   "id": "surgical-columbus",
   "metadata": {},
   "source": [
    "Just from this we can see that there is a very low occurance of fraud in comparison with non fraud which could cause some issues should we dive into any kind of predictions. \n",
    "\n",
    "This dataset is unbalanced which means using the data as it is might result in unwanted behaviour from a supervised classifier. To make it easy to understand if a classifier were to train with this data set trying to achieve the best accuracy possible it would most likely label every transaction as a non-fraud.\n",
    "\n",
    "To answer this problem we could use the oversampling principle or the undersampling principle The undersampling principle should be used only if we can be sure that the selected few tuples (in this case non-fraud) are representative of the whole non-fraud transactions of the dataset."
   ]
  },
  {
   "cell_type": "markdown",
   "id": "hazardous-socket",
   "metadata": {},
   "source": [
    "### Feature Exploration: Amount\n",
    "\n",
    "Description: Transaction Amount"
   ]
  },
  {
   "cell_type": "code",
   "execution_count": 12,
   "id": "multiple-tackle",
   "metadata": {},
   "outputs": [
    {
     "data": {
      "image/png": "[encoded data removed]",
      "text/plain": [
       "<Figure size 432x288 with 1 Axes>"
      ]
     },
     "metadata": {},
     "output_type": "display_data"
    }
   ],
   "source": [
    "sns.kdeplot(data.Amount[data.Class == 0], label = 'Fraud', shade=True)\n",
    "sns.kdeplot(data.Amount[data.Class == 1], label = 'NonFraud', shade=True)\n",
    "plt.xlabel('Amount');"
   ]
  },
  {
   "cell_type": "markdown",
   "id": "exciting-upset",
   "metadata": {},
   "source": [
    "Looks like there a lot more instances of small fraud amounts than really large ones."
   ]
  },
  {
   "cell_type": "markdown",
   "id": "sitting-booking",
   "metadata": {},
   "source": [
    "### Feature Exploration: Time\n",
    "\n",
    "Description: Number of seconds elapsed between this transaction and the first transaction in the dataset"
   ]
  },
  {
   "cell_type": "code",
   "execution_count": 13,
   "id": "hired-money",
   "metadata": {},
   "outputs": [
    {
     "data": {
      "image/png": "[encoded data removed]",
      "text/plain": [
       "<Figure size 432x288 with 1 Axes>"
      ]
     },
     "metadata": {},
     "output_type": "display_data"
    }
   ],
   "source": [
    "sns.kdeplot(data.Time[data.Class == 0], label = 'Fraud', shade=True)\n",
    "sns.kdeplot(data.Time[data.Class == 1], label = 'NonFraud', shade=True)\n",
    "plt.xlabel('Time');"
   ]
  },
  {
   "cell_type": "markdown",
   "id": "clinical-coral",
   "metadata": {},
   "source": [
    "We notice that the feature time doesn't seem to have an impact in the frequency of frauds."
   ]
  },
  {
   "cell_type": "markdown",
   "id": "independent-simulation",
   "metadata": {},
   "source": [
    "### Correlation of features"
   ]
  },
  {
   "cell_type": "code",
   "execution_count": 14,
   "id": "thermal-bearing",
   "metadata": {},
   "outputs": [],
   "source": [
    "data_corr = data.corr()"
   ]
  },
  {
   "cell_type": "code",
   "execution_count": 15,
   "id": "israeli-aspect",
   "metadata": {},
   "outputs": [
    {
     "data": {
      "image/png": "[encoded data removed]",
      "text/plain": [
       "<Figure size 1080x720 with 2 Axes>"
      ]
     },
     "metadata": {},
     "output_type": "display_data"
    }
   ],
   "source": [
    "plt.figure(figsize=(15,10))\n",
    "sns.heatmap(data_corr) # Displaying the Heatmap\n",
    "\n",
    "plt.title('Heatmap correlation')\n",
    "plt.show()"
   ]
  },
  {
   "cell_type": "markdown",
   "id": "protecting-helicopter",
   "metadata": {},
   "source": [
    "As we can notice, most of the features are not correlated with each other. \n",
    "\n",
    "What can generally be done on a massive dataset is a dimension reduction. By picking th emost important dimensions, there is a possiblity of explaining most of the problem, thus gaining a considerable amount of time while preventing the accuracy to drop too much.\n",
    "\n",
    "However in this case given the fact that a PCA was previously performed, if the dimension reduction is effective then the PCA wasn't computed in the most effective way. Another way to put it is that no dimension reduction should be computed on a dataset on which a PCA was computed correctly."
   ]
  },
  {
   "cell_type": "markdown",
   "id": "surgical-austin",
   "metadata": {},
   "source": [
    "<a id=\"t4.\"></a>\n",
    "## 4. Feature Engineering"
   ]
  },
  {
   "cell_type": "markdown",
   "id": "supported-sample",
   "metadata": {},
   "source": [
    "### Create arrays"
   ]
  },
  {
   "cell_type": "code",
   "execution_count": 16,
   "id": "valid-individual",
   "metadata": {},
   "outputs": [],
   "source": [
    "# First, we will divide our data into two arrays; X and y\n",
    "\n",
    "X = data.iloc[:, data.columns != 'Class']\n",
    "y = data.iloc[:, data.columns == 'Class']\n",
    "len(y[y.Class ==1]);"
   ]
  },
  {
   "cell_type": "markdown",
   "id": "handled-jenny",
   "metadata": {},
   "source": [
    "### Oversampling\n",
    "\n",
    "One way to do oversampling is to replicate the under-represented class tuples until we attain a correct proportion between the class\n",
    "\n",
    "However as we haven't infinite time nor the patience, we are going to run the classifier with the undersampled training data (for those using the undersampling principle if results are really bad just rerun the training dataset definition)\n",
    "\n",
    "### Undersampling\n",
    "\n",
    "Based in elimination of the Majority Type cases"
   ]
  },
  {
   "cell_type": "code",
   "execution_count": 17,
   "id": "ultimate-silly",
   "metadata": {},
   "outputs": [],
   "source": [
    "# We count the number of fraud cases that exist\n",
    "number_records_fraud = len (data[data.Class==1])\n",
    "# And let's extract the indexes where there are cases of fraud and non-fraud\n",
    "fraud_indices = np.array (data[data.Class==1].index)\n",
    "normal_indices = np.array (data[data.Class==0].index)"
   ]
  },
  {
   "cell_type": "code",
   "execution_count": 18,
   "id": "instrumental-recorder",
   "metadata": {},
   "outputs": [],
   "source": [
    "# We randomly obtain a number of non-fraud indices, equal to the fraud index\n",
    "random_normal_indices = np.random.choice (normal_indices, number_records_fraud, replace = False )\n",
    "# We unite in a single array the fraud indexes with the randomly chosen non-fraud\n",
    "under_sample_indices = np.concatenate ([fraud_indices, random_normal_indices])"
   ]
  },
  {
   "cell_type": "code",
   "execution_count": 19,
   "id": "national-nylon",
   "metadata": {},
   "outputs": [],
   "source": [
    "# Now we choose the values of said indices\n",
    "under_sample_data = data.iloc[under_sample_indices,:]\n",
    "# We separate the X from the y again\n",
    "X_undersample = under_sample_data.iloc [:, under_sample_data.columns != 'Class'];\n",
    "y_undersample = under_sample_data.iloc [:, under_sample_data.columns == 'Class'];"
   ]
  },
  {
   "cell_type": "markdown",
   "id": "olympic-surgery",
   "metadata": {},
   "source": [
    "### Train Test Split"
   ]
  },
  {
   "cell_type": "code",
   "execution_count": 20,
   "id": "extreme-guitar",
   "metadata": {},
   "outputs": [],
   "source": [
    "from sklearn.model_selection import train_test_split\n",
    "X_train, X_test, y_train, y_test = train_test_split (X,y, test_size = 0.3, random_state = 0)\n",
    "X_train_under, X_test_under, y_train_under, y_test_under = train_test_split (X_undersample,y_undersample, test_size = 0.3, random_state = 0)"
   ]
  },
  {
   "cell_type": "markdown",
   "id": "cardiovascular-messenger",
   "metadata": {},
   "source": [
    "<a id=\"t5.\"></a>\n",
    "## 5. Model Selection"
   ]
  },
  {
   "cell_type": "markdown",
   "id": "chinese-northwest",
   "metadata": {},
   "source": [
    "So now, we'll use a SVM model classifier, with the scikit-learn library."
   ]
  },
  {
   "cell_type": "code",
   "execution_count": 21,
   "id": "distant-failure",
   "metadata": {},
   "outputs": [
    {
     "ename": "NameError",
     "evalue": "name 'svm' is not defined",
     "output_type": "error",
     "traceback": [
      "\u001b[0;31m---------------------------------------------------------------------------\u001b[0m",
      "\u001b[0;31mNameError\u001b[0m                                 Traceback (most recent call last)",
      "\u001b[0;32m<ipython-input-21-4b70b60e41a1>\u001b[0m in \u001b[0;36m<module>\u001b[0;34m\u001b[0m\n\u001b[0;32m----> 1\u001b[0;31m \u001b[0mclassifier\u001b[0m \u001b[0;34m=\u001b[0m \u001b[0msvm\u001b[0m\u001b[0;34m.\u001b[0m\u001b[0mSVC\u001b[0m\u001b[0;34m(\u001b[0m\u001b[0mkernel\u001b[0m\u001b[0;34m=\u001b[0m\u001b[0;34m'linear'\u001b[0m\u001b[0;34m)\u001b[0m \u001b[0;31m# We set a SVM classifier, the default SVM Classifier (Kernel = Radial Basis Function)\u001b[0m\u001b[0;34m\u001b[0m\u001b[0;34m\u001b[0m\u001b[0m\n\u001b[0m",
      "\u001b[0;31mNameError\u001b[0m: name 'svm' is not defined"
     ]
    }
   ],
   "source": [
    "classifier = svm.SVC(kernel='linear') # We set a SVM classifier, the default SVM Classifier (Kernel = Radial Basis Function)"
   ]
  },
  {
   "cell_type": "code",
   "execution_count": null,
   "id": "hybrid-christopher",
   "metadata": {},
   "outputs": [],
   "source": [
    "classifier.fit(X_train, y_train) # Then we train our model, with our balanced data train."
   ]
  },
  {
   "cell_type": "markdown",
   "id": "productive-yahoo",
   "metadata": {},
   "source": [
    "<a id=\"t6.\"></a>\n",
    "## 6. Testing the model"
   ]
  },
  {
   "cell_type": "code",
   "execution_count": null,
   "id": "living-bracelet",
   "metadata": {},
   "outputs": [],
   "source": [
    "prediction_SVM_all = classifier.predict(X_test_all) #And finally, we predict our data test."
   ]
  },
  {
   "cell_type": "code",
   "execution_count": null,
   "id": "former-knitting",
   "metadata": {},
   "outputs": [],
   "source": [
    "cm = confusion_matrix(y_test_all, prediction_SVM_all)\n",
    "plot_confusion_matrix(cm,class_names)"
   ]
  },
  {
   "cell_type": "markdown",
   "id": "durable-attachment",
   "metadata": {},
   "source": [
    "<a id=\"t7.\"></a>\n",
    "## 7. Presenting the Solution"
   ]
  },
  {
   "cell_type": "code",
   "execution_count": null,
   "id": "preliminary-extension",
   "metadata": {},
   "outputs": [],
   "source": []
  },
  {
   "cell_type": "code",
   "execution_count": null,
   "id": "hybrid-zealand",
   "metadata": {},
   "outputs": [],
   "source": []
  },
  {
   "cell_type": "code",
   "execution_count": null,
   "id": "desperate-terrorist",
   "metadata": {},
   "outputs": [],
   "source": []
  }
 ],
 "metadata": {
  "kernelspec": {
   "display_name": "Python 3.8.6 64-bit ('ml': conda)",
   "language": "python",
   "name": "python38664bitmlconda7b4ac6cde5954b3f8d48cd22e79fbecd"
  },
  "language_info": {
   "codemirror_mode": {
    "name": "ipython",
    "version": 3
   },
   "file_extension": ".py",
   "mimetype": "text/x-python",
   "name": "python",
   "nbconvert_exporter": "python",
   "pygments_lexer": "ipython3",
   "version": "3.8.6"
  }
 },
 "nbformat": 4,
 "nbformat_minor": 5
}
