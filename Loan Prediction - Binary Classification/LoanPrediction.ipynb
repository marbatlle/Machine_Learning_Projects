{
 "cells": [
  {
   "cell_type": "markdown",
   "id": "separated-falls",
   "metadata": {},
   "source": [
    "# Loan Acceptance Prediction \n",
    "\n",
    "My personal goal for this notebook is to complete another EDA on a dataset, and create a guideline with all the steps for a ML Binary Classification Problem."
   ]
  },
  {
   "cell_type": "markdown",
   "id": "accredited-eating",
   "metadata": {},
   "source": [
    "TOC:\n",
    "1. [Problem Framing](#t1.)\n",
    "2. [Assess Data Quality & Missing Values](#t2.)\n",
    "3. [Exploratory Data Analysis](#t3.)\n",
    "4. [Prepare the Data](#t4.)\n",
    "5. [Shortlisting Promising ML Models](#t5.)\n",
    "6. [Fine-Tune the System](#t6.)\n",
    "7. [Presenting the Solution](#t7.)"
   ]
  },
  {
   "cell_type": "markdown",
   "id": "modern-procurement",
   "metadata": {},
   "source": [
    "*References:*\n",
    "* https://www.kaggle.com/yaheaal/loan-status-with-different-models\n",
    "* https://github.com/ageron/handson-ml2/blob/master/03_classification.ipynb"
   ]
  },
  {
   "cell_type": "markdown",
   "id": "obvious-initial",
   "metadata": {},
   "source": [
    "<a id=\"t1.\"></a>\n",
    "## 1. Problem Framing"
   ]
  },
  {
   "cell_type": "markdown",
   "id": "collect-brain",
   "metadata": {},
   "source": [
    "### Problem Definition"
   ]
  },
  {
   "cell_type": "markdown",
   "id": "remarkable-coating",
   "metadata": {},
   "source": [
    "Dream Housing Finance company deals in all home loans. They have presence across all urban, semi urban and rural areas. Customer first apply for home loan after that company validates the customer eligibility for loan. Company wants to automate the loan eligibility process (real time) based on customer detail provided while filling online application form. These details are Gender, Marital Status, Education, Number of Dependents, Income, Loan Amount, Credit History and others. To automate this process, they have given a problem to identify the customers segments, those are eligible for loan amount so that they can specifically target these customers.\n",
    "\n",
    "This is a standard supervised classification task.A classification problem where we have to predict whether a loan would be approved or not. Below is the dataset attributes with description."
   ]
  },
  {
   "cell_type": "markdown",
   "id": "innovative-anime",
   "metadata": {},
   "source": [
    "### The Data"
   ]
  },
  {
   "cell_type": "markdown",
   "id": "framed-bride",
   "metadata": {},
   "source": [
    "This dataset was obtained from Kaggle and is named Loan Prediction Dataset. It contains a set of 613 records under 13 attributes:\n",
    "\n",
    "* **Loan_ID:** A uniques loan ID\n",
    "* **Gender:** Male/Female\n",
    "* **Married:** Married(Yes)/Not married(No)  \n",
    "* **Dependents:** Number of persons depending on the client.\n",
    "* **Education:** Application Education (Graduate / Undergraduate)\n",
    "* **Self_Employed:** Self employed (Yes/No)\n",
    "* **ApplicantIncome:** Applicant income\n",
    "* **CoapplicantIncome:** Coapplicant Income\n",
    "* **LoanAmount:** Loan amount in thousands\n",
    "* **Loan_Amount_Term:** Term of lean in months\n",
    "* **Credit_History:** Credit history meets guidelines\n",
    "* **Property_Area:** Urban/Semi and Rural\n",
    "* **Loan_Status:** Loan approved (Y,N)\n",
    "\n",
    "As we said, the main objective of this probles is to use machine learning techniques to predict loan payments, therefore, our target value is Loan_Status."
   ]
  },
  {
   "cell_type": "markdown",
   "id": "medical-surveillance",
   "metadata": {},
   "source": [
    "### Preparing the tools"
   ]
  },
  {
   "cell_type": "code",
   "execution_count": 1,
   "id": "regional-indication",
   "metadata": {},
   "outputs": [
    {
     "name": "stdout",
     "output_type": "stream",
     "text": [
      "Set up completed\n"
     ]
    }
   ],
   "source": [
    "#basic libraries\n",
    "import sys\n",
    "import numpy as np\n",
    "import pandas as pd\n",
    "import os\n",
    "import warnings\n",
    "\n",
    "#seed the project\n",
    "np.random.seed(64)\n",
    "\n",
    "#ploting libraries\n",
    "%matplotlib inline\n",
    "import matplotlib.pyplot as plt\n",
    "import missingno\n",
    "import seaborn as sns\n",
    "sns.set(context='notebook', style='whitegrid', palette='pastel', font='sans-serif', font_scale=1, color_codes=False, rc=None)\n",
    "\n",
    "#ML preprocessing\n",
    "from sklearn import preprocessing\n",
    "from sklearn.pipeline import Pipeline\n",
    "from sklearn.impute import SimpleImputer\n",
    "from sklearn.preprocessing import StandardScaler\n",
    "from sklearn.preprocessing import OneHotEncoder\n",
    "from sklearn.compose import ColumnTransformer\n",
    "from sklearn.base import BaseEstimator, TransformerMixin\n",
    "from sklearn.model_selection import StratifiedShuffleSplit\n",
    "from sklearn.model_selection import StratifiedKFold\n",
    "\n",
    "# ML models\n",
    "\n",
    "\n",
    "# ML model evaluattion\n",
    "from sklearn.model_selection import cross_val_score\n",
    "\n",
    "\n",
    "\n",
    "#relevant ML libraries\n",
    "from sklearn.pipeline import FeatureUnion\n",
    "\n",
    "from sklearn.model_selection import train_test_split\n",
    "from sklearn.metrics import confusion_matrix\n",
    "from sklearn.metrics import classification_report\n",
    "from sklearn.metrics import accuracy_score\n",
    "\n",
    "\n",
    "#ML models\n",
    "\n",
    "#warning hadle\n",
    "warnings.filterwarnings(\"ignore\")\n",
    "\n",
    "print(\"Set up completed\")"
   ]
  },
  {
   "cell_type": "markdown",
   "id": "sticky-sunglasses",
   "metadata": {},
   "source": [
    "### Load the Data"
   ]
  },
  {
   "cell_type": "code",
   "execution_count": 2,
   "id": "gorgeous-legend",
   "metadata": {},
   "outputs": [],
   "source": [
    "# Import train and test data\n",
    "train_df = pd.read_csv('data/loan_train.csv')\n",
    "test_df = pd.read_csv('data/loan_test.csv')"
   ]
  },
  {
   "cell_type": "code",
   "execution_count": 3,
   "id": "hollywood-question",
   "metadata": {},
   "outputs": [
    {
     "data": {
      "text/html": [
       "<div>\n",
       "<style scoped>\n",
       "    .dataframe tbody tr th:only-of-type {\n",
       "        vertical-align: middle;\n",
       "    }\n",
       "\n",
       "    .dataframe tbody tr th {\n",
       "        vertical-align: top;\n",
       "    }\n",
       "\n",
       "    .dataframe thead th {\n",
       "        text-align: right;\n",
       "    }\n",
       "</style>\n",
       "<table border=\"1\" class=\"dataframe\">\n",
       "  <thead>\n",
       "    <tr style=\"text-align: right;\">\n",
       "      <th></th>\n",
       "      <th>Loan_ID</th>\n",
       "      <th>Gender</th>\n",
       "      <th>Married</th>\n",
       "      <th>Dependents</th>\n",
       "      <th>Education</th>\n",
       "      <th>Self_Employed</th>\n",
       "      <th>ApplicantIncome</th>\n",
       "      <th>CoapplicantIncome</th>\n",
       "      <th>LoanAmount</th>\n",
       "      <th>Loan_Amount_Term</th>\n",
       "      <th>Credit_History</th>\n",
       "      <th>Property_Area</th>\n",
       "      <th>Loan_Status</th>\n",
       "    </tr>\n",
       "  </thead>\n",
       "  <tbody>\n",
       "    <tr>\n",
       "      <th>0</th>\n",
       "      <td>LP001002</td>\n",
       "      <td>Male</td>\n",
       "      <td>No</td>\n",
       "      <td>0</td>\n",
       "      <td>Graduate</td>\n",
       "      <td>No</td>\n",
       "      <td>5849</td>\n",
       "      <td>0.0</td>\n",
       "      <td>NaN</td>\n",
       "      <td>360.0</td>\n",
       "      <td>1.0</td>\n",
       "      <td>Urban</td>\n",
       "      <td>Y</td>\n",
       "    </tr>\n",
       "    <tr>\n",
       "      <th>1</th>\n",
       "      <td>LP001003</td>\n",
       "      <td>Male</td>\n",
       "      <td>Yes</td>\n",
       "      <td>1</td>\n",
       "      <td>Graduate</td>\n",
       "      <td>No</td>\n",
       "      <td>4583</td>\n",
       "      <td>1508.0</td>\n",
       "      <td>128.0</td>\n",
       "      <td>360.0</td>\n",
       "      <td>1.0</td>\n",
       "      <td>Rural</td>\n",
       "      <td>N</td>\n",
       "    </tr>\n",
       "    <tr>\n",
       "      <th>2</th>\n",
       "      <td>LP001005</td>\n",
       "      <td>Male</td>\n",
       "      <td>Yes</td>\n",
       "      <td>0</td>\n",
       "      <td>Graduate</td>\n",
       "      <td>Yes</td>\n",
       "      <td>3000</td>\n",
       "      <td>0.0</td>\n",
       "      <td>66.0</td>\n",
       "      <td>360.0</td>\n",
       "      <td>1.0</td>\n",
       "      <td>Urban</td>\n",
       "      <td>Y</td>\n",
       "    </tr>\n",
       "    <tr>\n",
       "      <th>3</th>\n",
       "      <td>LP001006</td>\n",
       "      <td>Male</td>\n",
       "      <td>Yes</td>\n",
       "      <td>0</td>\n",
       "      <td>Not Graduate</td>\n",
       "      <td>No</td>\n",
       "      <td>2583</td>\n",
       "      <td>2358.0</td>\n",
       "      <td>120.0</td>\n",
       "      <td>360.0</td>\n",
       "      <td>1.0</td>\n",
       "      <td>Urban</td>\n",
       "      <td>Y</td>\n",
       "    </tr>\n",
       "    <tr>\n",
       "      <th>4</th>\n",
       "      <td>LP001008</td>\n",
       "      <td>Male</td>\n",
       "      <td>No</td>\n",
       "      <td>0</td>\n",
       "      <td>Graduate</td>\n",
       "      <td>No</td>\n",
       "      <td>6000</td>\n",
       "      <td>0.0</td>\n",
       "      <td>141.0</td>\n",
       "      <td>360.0</td>\n",
       "      <td>1.0</td>\n",
       "      <td>Urban</td>\n",
       "      <td>Y</td>\n",
       "    </tr>\n",
       "  </tbody>\n",
       "</table>\n",
       "</div>"
      ],
      "text/plain": [
       "    Loan_ID Gender Married Dependents     Education Self_Employed  \\\n",
       "0  LP001002   Male      No          0      Graduate            No   \n",
       "1  LP001003   Male     Yes          1      Graduate            No   \n",
       "2  LP001005   Male     Yes          0      Graduate           Yes   \n",
       "3  LP001006   Male     Yes          0  Not Graduate            No   \n",
       "4  LP001008   Male      No          0      Graduate            No   \n",
       "\n",
       "   ApplicantIncome  CoapplicantIncome  LoanAmount  Loan_Amount_Term  \\\n",
       "0             5849                0.0         NaN             360.0   \n",
       "1             4583             1508.0       128.0             360.0   \n",
       "2             3000                0.0        66.0             360.0   \n",
       "3             2583             2358.0       120.0             360.0   \n",
       "4             6000                0.0       141.0             360.0   \n",
       "\n",
       "   Credit_History Property_Area Loan_Status  \n",
       "0             1.0         Urban           Y  \n",
       "1             1.0         Rural           N  \n",
       "2             1.0         Urban           Y  \n",
       "3             1.0         Urban           Y  \n",
       "4             1.0         Urban           Y  "
      ]
     },
     "execution_count": 3,
     "metadata": {},
     "output_type": "execute_result"
    }
   ],
   "source": [
    "# Print the first rows of the training data\n",
    "train_df.head()"
   ]
  },
  {
   "cell_type": "code",
   "execution_count": 4,
   "id": "laughing-investment",
   "metadata": {},
   "outputs": [
    {
     "data": {
      "text/html": [
       "<div>\n",
       "<style scoped>\n",
       "    .dataframe tbody tr th:only-of-type {\n",
       "        vertical-align: middle;\n",
       "    }\n",
       "\n",
       "    .dataframe tbody tr th {\n",
       "        vertical-align: top;\n",
       "    }\n",
       "\n",
       "    .dataframe thead th {\n",
       "        text-align: right;\n",
       "    }\n",
       "</style>\n",
       "<table border=\"1\" class=\"dataframe\">\n",
       "  <thead>\n",
       "    <tr style=\"text-align: right;\">\n",
       "      <th></th>\n",
       "      <th>Loan_ID</th>\n",
       "      <th>Gender</th>\n",
       "      <th>Married</th>\n",
       "      <th>Dependents</th>\n",
       "      <th>Education</th>\n",
       "      <th>Self_Employed</th>\n",
       "      <th>ApplicantIncome</th>\n",
       "      <th>CoapplicantIncome</th>\n",
       "      <th>LoanAmount</th>\n",
       "      <th>Loan_Amount_Term</th>\n",
       "      <th>Credit_History</th>\n",
       "      <th>Property_Area</th>\n",
       "    </tr>\n",
       "  </thead>\n",
       "  <tbody>\n",
       "    <tr>\n",
       "      <th>0</th>\n",
       "      <td>LP001015</td>\n",
       "      <td>Male</td>\n",
       "      <td>Yes</td>\n",
       "      <td>0</td>\n",
       "      <td>Graduate</td>\n",
       "      <td>No</td>\n",
       "      <td>5720</td>\n",
       "      <td>0</td>\n",
       "      <td>110.0</td>\n",
       "      <td>360.0</td>\n",
       "      <td>1.0</td>\n",
       "      <td>Urban</td>\n",
       "    </tr>\n",
       "    <tr>\n",
       "      <th>1</th>\n",
       "      <td>LP001022</td>\n",
       "      <td>Male</td>\n",
       "      <td>Yes</td>\n",
       "      <td>1</td>\n",
       "      <td>Graduate</td>\n",
       "      <td>No</td>\n",
       "      <td>3076</td>\n",
       "      <td>1500</td>\n",
       "      <td>126.0</td>\n",
       "      <td>360.0</td>\n",
       "      <td>1.0</td>\n",
       "      <td>Urban</td>\n",
       "    </tr>\n",
       "    <tr>\n",
       "      <th>2</th>\n",
       "      <td>LP001031</td>\n",
       "      <td>Male</td>\n",
       "      <td>Yes</td>\n",
       "      <td>2</td>\n",
       "      <td>Graduate</td>\n",
       "      <td>No</td>\n",
       "      <td>5000</td>\n",
       "      <td>1800</td>\n",
       "      <td>208.0</td>\n",
       "      <td>360.0</td>\n",
       "      <td>1.0</td>\n",
       "      <td>Urban</td>\n",
       "    </tr>\n",
       "    <tr>\n",
       "      <th>3</th>\n",
       "      <td>LP001035</td>\n",
       "      <td>Male</td>\n",
       "      <td>Yes</td>\n",
       "      <td>2</td>\n",
       "      <td>Graduate</td>\n",
       "      <td>No</td>\n",
       "      <td>2340</td>\n",
       "      <td>2546</td>\n",
       "      <td>100.0</td>\n",
       "      <td>360.0</td>\n",
       "      <td>NaN</td>\n",
       "      <td>Urban</td>\n",
       "    </tr>\n",
       "    <tr>\n",
       "      <th>4</th>\n",
       "      <td>LP001051</td>\n",
       "      <td>Male</td>\n",
       "      <td>No</td>\n",
       "      <td>0</td>\n",
       "      <td>Not Graduate</td>\n",
       "      <td>No</td>\n",
       "      <td>3276</td>\n",
       "      <td>0</td>\n",
       "      <td>78.0</td>\n",
       "      <td>360.0</td>\n",
       "      <td>1.0</td>\n",
       "      <td>Urban</td>\n",
       "    </tr>\n",
       "  </tbody>\n",
       "</table>\n",
       "</div>"
      ],
      "text/plain": [
       "    Loan_ID Gender Married Dependents     Education Self_Employed  \\\n",
       "0  LP001015   Male     Yes          0      Graduate            No   \n",
       "1  LP001022   Male     Yes          1      Graduate            No   \n",
       "2  LP001031   Male     Yes          2      Graduate            No   \n",
       "3  LP001035   Male     Yes          2      Graduate            No   \n",
       "4  LP001051   Male      No          0  Not Graduate            No   \n",
       "\n",
       "   ApplicantIncome  CoapplicantIncome  LoanAmount  Loan_Amount_Term  \\\n",
       "0             5720                  0       110.0             360.0   \n",
       "1             3076               1500       126.0             360.0   \n",
       "2             5000               1800       208.0             360.0   \n",
       "3             2340               2546       100.0             360.0   \n",
       "4             3276                  0        78.0             360.0   \n",
       "\n",
       "   Credit_History Property_Area  \n",
       "0             1.0         Urban  \n",
       "1             1.0         Urban  \n",
       "2             1.0         Urban  \n",
       "3             NaN         Urban  \n",
       "4             1.0         Urban  "
      ]
     },
     "execution_count": 4,
     "metadata": {},
     "output_type": "execute_result"
    }
   ],
   "source": [
    "# Print the first rows of the test data\n",
    "test_df.head()"
   ]
  },
  {
   "cell_type": "markdown",
   "id": "molecular-postcard",
   "metadata": {},
   "source": [
    "<a id=\"t2.\"></a>\n",
    "## 2. Data Quality & Missing Values Assessment"
   ]
  },
  {
   "cell_type": "markdown",
   "id": "dimensional-hampton",
   "metadata": {},
   "source": [
    "### Data Types\n",
    "We can see our dataset consist on different types of data. As we continue to analyze it, we'll find features which are numerical and should actually be categorial."
   ]
  },
  {
   "cell_type": "code",
   "execution_count": 5,
   "id": "primary-survival",
   "metadata": {},
   "outputs": [
    {
     "data": {
      "text/plain": [
       "Loan_ID               object\n",
       "Gender                object\n",
       "Married               object\n",
       "Dependents            object\n",
       "Education             object\n",
       "Self_Employed         object\n",
       "ApplicantIncome        int64\n",
       "CoapplicantIncome    float64\n",
       "LoanAmount           float64\n",
       "Loan_Amount_Term     float64\n",
       "Credit_History       float64\n",
       "Property_Area         object\n",
       "Loan_Status           object\n",
       "dtype: object"
      ]
     },
     "execution_count": 5,
     "metadata": {},
     "output_type": "execute_result"
    }
   ],
   "source": [
    "# Different data types in the dataset\n",
    "train_df.dtypes"
   ]
  },
  {
   "cell_type": "markdown",
   "id": "hindu-protocol",
   "metadata": {},
   "source": [
    "### Missing Values\n",
    "\n",
    "As you can see we have some missing data, let's have a look how many we have for each column:"
   ]
  },
  {
   "cell_type": "code",
   "execution_count": 6,
   "id": "moderate-execution",
   "metadata": {},
   "outputs": [
    {
     "data": {
      "text/plain": [
       "Credit_History       50\n",
       "Self_Employed        32\n",
       "LoanAmount           22\n",
       "Dependents           15\n",
       "Loan_Amount_Term     14\n",
       "Gender               13\n",
       "Married               3\n",
       "Loan_ID               0\n",
       "Education             0\n",
       "ApplicantIncome       0\n",
       "CoapplicantIncome     0\n",
       "Property_Area         0\n",
       "Loan_Status           0\n",
       "dtype: int64"
      ]
     },
     "execution_count": 6,
     "metadata": {},
     "output_type": "execute_result"
    }
   ],
   "source": [
    "# We need to see the amount of missing values present in each column.\n",
    "train_df.isnull().sum().sort_values(ascending=False)"
   ]
  },
  {
   "cell_type": "code",
   "execution_count": 7,
   "id": "satellite-inspection",
   "metadata": {},
   "outputs": [
    {
     "data": {
      "image/png": "[encoded data removed]",
      "text/plain": [
       "<Figure size 2160x720 with 2 Axes>"
      ]
     },
     "metadata": {},
     "output_type": "display_data"
    }
   ],
   "source": [
    "# Plot graphic of missing values\n",
    "missingno.matrix(train_df, figsize = (30,10));"
   ]
  },
  {
   "cell_type": "markdown",
   "id": "serial-breeding",
   "metadata": {},
   "source": [
    "It is important to check which columns contain empty values, as most ML models don't work when these are present. In this case, we can see that the columns Gender, Married, Dependents, Self_Employed, LoanAmount, Loan_Amount_Term and Credit_History have missing values. But as we can confirm, none of these features have enough missing attributes to discard it. But to be able to continue with our analysis we can't have any na value, so we will replace them by the most frequent value."
   ]
  },
  {
   "cell_type": "markdown",
   "id": "aggressive-bahamas",
   "metadata": {},
   "source": [
    "<a id=\"t2.\"></a>\n",
    "## 3. Exploration Data Analysis"
   ]
  },
  {
   "cell_type": "markdown",
   "id": "fiscal-shower",
   "metadata": {},
   "source": [
    "### Exploration of our Target Feature: Loan Status"
   ]
  },
  {
   "cell_type": "code",
   "execution_count": 8,
   "id": "single-american",
   "metadata": {},
   "outputs": [
    {
     "data": {
      "image/png": "[encoded data removed]",
      "text/plain": [
       "<Figure size 432x288 with 1 Axes>"
      ]
     },
     "metadata": {},
     "output_type": "display_data"
    }
   ],
   "source": [
    "sns.countplot('Loan_Status', data=train_df);"
   ]
  },
  {
   "cell_type": "markdown",
   "id": "hazardous-battle",
   "metadata": {},
   "source": [
    "### Exploration of Applicant Income"
   ]
  },
  {
   "cell_type": "code",
   "execution_count": 9,
   "id": "drawn-jerusalem",
   "metadata": {},
   "outputs": [
    {
     "data": {
      "image/png": "[encoded data removed]",
      "text/plain": [
       "<Figure size 360x360 with 1 Axes>"
      ]
     },
     "metadata": {},
     "output_type": "display_data"
    }
   ],
   "source": [
    "plt.figure(figsize=(5,5))\n",
    "sns.boxplot(x='Loan_Status', y='ApplicantIncome', data=train_df);"
   ]
  },
  {
   "cell_type": "markdown",
   "id": "passing-seventh",
   "metadata": {},
   "source": [
    "Both groups, the one that had their loan approved and the ones that didn't, seem that have a very similar pattern, therefore, we wouldn't consider the applicant's income as an important feature for our analysis."
   ]
  },
  {
   "cell_type": "markdown",
   "id": "atmospheric-evening",
   "metadata": {},
   "source": [
    "### Exploration of Coapplicant Income"
   ]
  },
  {
   "cell_type": "code",
   "execution_count": 10,
   "id": "exceptional-cliff",
   "metadata": {},
   "outputs": [
    {
     "data": {
      "image/png": "[encoded data removed]",
      "text/plain": [
       "<Figure size 360x360 with 1 Axes>"
      ]
     },
     "metadata": {},
     "output_type": "display_data"
    }
   ],
   "source": [
    "plt.figure(figsize=(5,5))\n",
    "sns.boxplot(x='Loan_Status', y='CoapplicantIncome', data=train_df);"
   ]
  },
  {
   "cell_type": "markdown",
   "id": "authorized-large",
   "metadata": {},
   "source": [
    "We do actually see a different pattern between both groups, so we can say that the Coapplicant Income is a an important feature for this ML modern."
   ]
  },
  {
   "cell_type": "markdown",
   "id": "visible-nirvana",
   "metadata": {},
   "source": [
    "### Exploration of Loan Amount"
   ]
  },
  {
   "cell_type": "code",
   "execution_count": 11,
   "id": "prepared-palace",
   "metadata": {},
   "outputs": [
    {
     "data": {
      "image/png": "[encoded data removed]",
      "text/plain": [
       "<Figure size 360x360 with 1 Axes>"
      ]
     },
     "metadata": {},
     "output_type": "display_data"
    }
   ],
   "source": [
    "plt.figure(figsize=(5,5))\n",
    "sns.boxplot(x='Loan_Status', y='LoanAmount', data=train_df);"
   ]
  },
  {
   "cell_type": "markdown",
   "id": "alternative-termination",
   "metadata": {},
   "source": [
    "Both groups seem to have a very similar pattern, therefore, we wouldn't consider the loan amount an important feature for our analysis."
   ]
  },
  {
   "cell_type": "markdown",
   "id": "equal-thanksgiving",
   "metadata": {},
   "source": [
    "### Exploration of Loan Amount Term"
   ]
  },
  {
   "cell_type": "code",
   "execution_count": 12,
   "id": "special-superior",
   "metadata": {},
   "outputs": [
    {
     "data": {
      "image/png": "[encoded data removed]",
      "text/plain": [
       "<Figure size 1080x360 with 1 Axes>"
      ]
     },
     "metadata": {},
     "output_type": "display_data"
    }
   ],
   "source": [
    "plt.figure(figsize=(15,5))\n",
    "sns.violinplot(x='Loan_Status', y='Loan_Amount_Term', data=train_df);"
   ]
  },
  {
   "cell_type": "markdown",
   "id": "blocked-handbook",
   "metadata": {},
   "source": [
    "Looking at this plots, we can't see a significant difference between the subjects that got the loan accepted and the ones that didn't."
   ]
  },
  {
   "cell_type": "markdown",
   "id": "optional-constitutional",
   "metadata": {},
   "source": [
    "### Exploration of Credit History"
   ]
  },
  {
   "cell_type": "code",
   "execution_count": 13,
   "id": "unlike-alarm",
   "metadata": {},
   "outputs": [
    {
     "data": {
      "image/png": "[encoded data removed]",
      "text/plain": [
       "<Figure size 1080x360 with 1 Axes>"
      ]
     },
     "metadata": {},
     "output_type": "display_data"
    }
   ],
   "source": [
    "plt.figure(figsize=(15,5))\n",
    "sns.violinplot(x='Loan_Status', y='Credit_History', data=train_df);"
   ]
  },
  {
   "cell_type": "markdown",
   "id": "ultimate-armstrong",
   "metadata": {},
   "source": [
    "It can be seen that if you got a Credit History = 1, you have a better chance to get a loan. This is an important feature for our future analysis. But we can clearly see this is actually a categorical variable, as we can see that it is 1 or 2"
   ]
  },
  {
   "cell_type": "code",
   "execution_count": 14,
   "id": "whole-edition",
   "metadata": {},
   "outputs": [],
   "source": [
    "train_df['Credit_History'] = train_df['Credit_History'].astype('O')"
   ]
  },
  {
   "cell_type": "markdown",
   "id": "yellow-pickup",
   "metadata": {},
   "source": [
    "### Exploration of Gender"
   ]
  },
  {
   "cell_type": "code",
   "execution_count": 15,
   "id": "offshore-apollo",
   "metadata": {},
   "outputs": [
    {
     "data": {
      "image/png": "[encoded data removed]",
      "text/plain": [
       "<Figure size 1080x360 with 1 Axes>"
      ]
     },
     "metadata": {},
     "output_type": "display_data"
    }
   ],
   "source": [
    "plt.figure(figsize=(15,5))\n",
    "sns.countplot(x='Gender', hue='Loan_Status', data=train_df);"
   ]
  },
  {
   "cell_type": "markdown",
   "id": "massive-childhood",
   "metadata": {},
   "source": [
    "We don't see a pattern here, most males got a loan but most females also did. As of now we wouldn't classify it as an important feature for our model."
   ]
  },
  {
   "cell_type": "markdown",
   "id": "unlikely-diameter",
   "metadata": {},
   "source": [
    "### Exploration of Married"
   ]
  },
  {
   "cell_type": "code",
   "execution_count": 16,
   "id": "broad-stranger",
   "metadata": {},
   "outputs": [
    {
     "data": {
      "image/png": "[encoded data removed]",
      "text/plain": [
       "<Figure size 1080x360 with 1 Axes>"
      ]
     },
     "metadata": {},
     "output_type": "display_data"
    }
   ],
   "source": [
    "plt.figure(figsize=(15,5))\n",
    "sns.countplot(x='Married', hue='Loan_Status', data=train_df);"
   ]
  },
  {
   "cell_type": "markdown",
   "id": "cardiovascular-christianity",
   "metadata": {},
   "source": [
    "We can see that if you are married you have a better chance of getting a loan, this seems like a good feature."
   ]
  },
  {
   "cell_type": "markdown",
   "id": "beginning-luxury",
   "metadata": {},
   "source": [
    "### Exploration of Dependents"
   ]
  },
  {
   "cell_type": "code",
   "execution_count": 17,
   "id": "progressive-working",
   "metadata": {},
   "outputs": [
    {
     "data": {
      "image/png": "[encoded data removed]",
      "text/plain": [
       "<Figure size 1080x360 with 1 Axes>"
      ]
     },
     "metadata": {},
     "output_type": "display_data"
    }
   ],
   "source": [
    "plt.figure(figsize=(15,5))\n",
    "sns.countplot(x='Dependents', hue='Loan_Status', data=train_df);"
   ]
  },
  {
   "cell_type": "markdown",
   "id": "least-farmer",
   "metadata": {},
   "source": [
    "It seems that if the applicant has zero dependent members, they have a higher chance ot get a loan, this also seems like a good feature."
   ]
  },
  {
   "cell_type": "markdown",
   "id": "altered-lobby",
   "metadata": {},
   "source": [
    "### Exploration of Education"
   ]
  },
  {
   "cell_type": "code",
   "execution_count": 18,
   "id": "derived-fundamentals",
   "metadata": {},
   "outputs": [
    {
     "data": {
      "image/png": "[encoded data removed]",
      "text/plain": [
       "<Figure size 1080x360 with 1 Axes>"
      ]
     },
     "metadata": {},
     "output_type": "display_data"
    }
   ],
   "source": [
    "plt.figure(figsize=(15,5))\n",
    "sns.countplot(x='Education', hue='Loan_Status', data=train_df);"
   ]
  },
  {
   "cell_type": "markdown",
   "id": "nutritional-muscle",
   "metadata": {},
   "source": [
    "It seems that graduated students have a slight more chance of getting a loan accepted. This might be and important feature."
   ]
  },
  {
   "cell_type": "markdown",
   "id": "recreational-wings",
   "metadata": {},
   "source": [
    "### Exploration of Self Employed"
   ]
  },
  {
   "cell_type": "code",
   "execution_count": 19,
   "id": "prescribed-sierra",
   "metadata": {},
   "outputs": [
    {
     "data": {
      "image/png": "[encoded data removed]",
      "text/plain": [
       "<Figure size 1080x360 with 1 Axes>"
      ]
     },
     "metadata": {},
     "output_type": "display_data"
    }
   ],
   "source": [
    "plt.figure(figsize=(15,5))\n",
    "sns.countplot(x='Self_Employed', hue='Loan_Status', data=train_df);"
   ]
  },
  {
   "cell_type": "markdown",
   "id": "floppy-boards",
   "metadata": {},
   "source": [
    "If you are self-employed or not, you will get almost the same chance to get a loan, we don't see a pattern, therefore, this doesn't seem like an important feature."
   ]
  },
  {
   "cell_type": "markdown",
   "id": "subject-drinking",
   "metadata": {},
   "source": [
    "### Exploration of Property Area"
   ]
  },
  {
   "cell_type": "code",
   "execution_count": 20,
   "id": "federal-share",
   "metadata": {},
   "outputs": [
    {
     "data": {
      "image/png": "[encoded data removed]",
      "text/plain": [
       "<Figure size 1080x360 with 1 Axes>"
      ]
     },
     "metadata": {},
     "output_type": "display_data"
    }
   ],
   "source": [
    "plt.figure(figsize=(15,5))\n",
    "sns.countplot(x='Property_Area', hue='Loan_Status', data=train_df);"
   ]
  },
  {
   "cell_type": "markdown",
   "id": "moved-block",
   "metadata": {},
   "source": [
    "We can see that living in a semiurban are gives you the biggest chance to get a loan approved. This seems like a good feature."
   ]
  },
  {
   "cell_type": "markdown",
   "id": "pressed-italy",
   "metadata": {},
   "source": [
    "<a id=\"t4.\"></a>\n",
    "## 4. Preparing the Data"
   ]
  },
  {
   "cell_type": "markdown",
   "id": "impressed-republic",
   "metadata": {},
   "source": [
    "### Feature Selection"
   ]
  },
  {
   "cell_type": "markdown",
   "id": "insured-sample",
   "metadata": {},
   "source": [
    "As we saw earlier, there are some features that seem more useful for this project than others. Given this, one of our goals will be to drop the following features: ['Loan_ID','ApplicantIncome','LoanAmount', 'Loan_Amount_Term', 'Gender','Self_Employed']; that were declared not interesting during the previous discussion."
   ]
  },
  {
   "cell_type": "code",
   "execution_count": 21,
   "id": "bottom-decimal",
   "metadata": {},
   "outputs": [
    {
     "data": {
      "text/html": [
       "<div>\n",
       "<style scoped>\n",
       "    .dataframe tbody tr th:only-of-type {\n",
       "        vertical-align: middle;\n",
       "    }\n",
       "\n",
       "    .dataframe tbody tr th {\n",
       "        vertical-align: top;\n",
       "    }\n",
       "\n",
       "    .dataframe thead th {\n",
       "        text-align: right;\n",
       "    }\n",
       "</style>\n",
       "<table border=\"1\" class=\"dataframe\">\n",
       "  <thead>\n",
       "    <tr style=\"text-align: right;\">\n",
       "      <th></th>\n",
       "      <th>Loan_ID</th>\n",
       "      <th>Gender</th>\n",
       "      <th>Married</th>\n",
       "      <th>Dependents</th>\n",
       "      <th>Education</th>\n",
       "      <th>Self_Employed</th>\n",
       "      <th>ApplicantIncome</th>\n",
       "      <th>CoapplicantIncome</th>\n",
       "      <th>LoanAmount</th>\n",
       "      <th>Loan_Amount_Term</th>\n",
       "      <th>Credit_History</th>\n",
       "      <th>Property_Area</th>\n",
       "      <th>Loan_Status</th>\n",
       "    </tr>\n",
       "  </thead>\n",
       "  <tbody>\n",
       "    <tr>\n",
       "      <th>0</th>\n",
       "      <td>LP001002</td>\n",
       "      <td>Male</td>\n",
       "      <td>No</td>\n",
       "      <td>0</td>\n",
       "      <td>Graduate</td>\n",
       "      <td>No</td>\n",
       "      <td>5849</td>\n",
       "      <td>0.0</td>\n",
       "      <td>NaN</td>\n",
       "      <td>360.0</td>\n",
       "      <td>1.0</td>\n",
       "      <td>Urban</td>\n",
       "      <td>Y</td>\n",
       "    </tr>\n",
       "    <tr>\n",
       "      <th>1</th>\n",
       "      <td>LP001003</td>\n",
       "      <td>Male</td>\n",
       "      <td>Yes</td>\n",
       "      <td>1</td>\n",
       "      <td>Graduate</td>\n",
       "      <td>No</td>\n",
       "      <td>4583</td>\n",
       "      <td>1508.0</td>\n",
       "      <td>128.0</td>\n",
       "      <td>360.0</td>\n",
       "      <td>1.0</td>\n",
       "      <td>Rural</td>\n",
       "      <td>N</td>\n",
       "    </tr>\n",
       "    <tr>\n",
       "      <th>2</th>\n",
       "      <td>LP001005</td>\n",
       "      <td>Male</td>\n",
       "      <td>Yes</td>\n",
       "      <td>0</td>\n",
       "      <td>Graduate</td>\n",
       "      <td>Yes</td>\n",
       "      <td>3000</td>\n",
       "      <td>0.0</td>\n",
       "      <td>66.0</td>\n",
       "      <td>360.0</td>\n",
       "      <td>1.0</td>\n",
       "      <td>Urban</td>\n",
       "      <td>Y</td>\n",
       "    </tr>\n",
       "    <tr>\n",
       "      <th>3</th>\n",
       "      <td>LP001006</td>\n",
       "      <td>Male</td>\n",
       "      <td>Yes</td>\n",
       "      <td>0</td>\n",
       "      <td>Not Graduate</td>\n",
       "      <td>No</td>\n",
       "      <td>2583</td>\n",
       "      <td>2358.0</td>\n",
       "      <td>120.0</td>\n",
       "      <td>360.0</td>\n",
       "      <td>1.0</td>\n",
       "      <td>Urban</td>\n",
       "      <td>Y</td>\n",
       "    </tr>\n",
       "    <tr>\n",
       "      <th>4</th>\n",
       "      <td>LP001008</td>\n",
       "      <td>Male</td>\n",
       "      <td>No</td>\n",
       "      <td>0</td>\n",
       "      <td>Graduate</td>\n",
       "      <td>No</td>\n",
       "      <td>6000</td>\n",
       "      <td>0.0</td>\n",
       "      <td>141.0</td>\n",
       "      <td>360.0</td>\n",
       "      <td>1.0</td>\n",
       "      <td>Urban</td>\n",
       "      <td>Y</td>\n",
       "    </tr>\n",
       "  </tbody>\n",
       "</table>\n",
       "</div>"
      ],
      "text/plain": [
       "    Loan_ID Gender Married Dependents     Education Self_Employed  \\\n",
       "0  LP001002   Male      No          0      Graduate            No   \n",
       "1  LP001003   Male     Yes          1      Graduate            No   \n",
       "2  LP001005   Male     Yes          0      Graduate           Yes   \n",
       "3  LP001006   Male     Yes          0  Not Graduate            No   \n",
       "4  LP001008   Male      No          0      Graduate            No   \n",
       "\n",
       "   ApplicantIncome  CoapplicantIncome  LoanAmount  Loan_Amount_Term  \\\n",
       "0             5849                0.0         NaN             360.0   \n",
       "1             4583             1508.0       128.0             360.0   \n",
       "2             3000                0.0        66.0             360.0   \n",
       "3             2583             2358.0       120.0             360.0   \n",
       "4             6000                0.0       141.0             360.0   \n",
       "\n",
       "  Credit_History Property_Area Loan_Status  \n",
       "0            1.0         Urban           Y  \n",
       "1            1.0         Rural           N  \n",
       "2            1.0         Urban           Y  \n",
       "3            1.0         Urban           Y  \n",
       "4            1.0         Urban           Y  "
      ]
     },
     "execution_count": 21,
     "metadata": {},
     "output_type": "execute_result"
    }
   ],
   "source": [
    "# safety copy of our current df\n",
    "train = train_df.copy()\n",
    "train.head()"
   ]
  },
  {
   "cell_type": "markdown",
   "id": "further-favorite",
   "metadata": {},
   "source": [
    "### Numerical Attributes Pipeline"
   ]
  },
  {
   "cell_type": "markdown",
   "id": "smaller-candy",
   "metadata": {},
   "source": [
    "To get our dataset ready for our ML algorithms, we need to deal with missing data. In this case we'll opt for replacing NAs with the mean. For simplicity, we do this for all numerical variables."
   ]
  },
  {
   "cell_type": "markdown",
   "id": "diverse-leave",
   "metadata": {},
   "source": [
    "A part from dropping the na values, it is also important to note that a few machine learning algorithms are highly sensitive to features that span varying degrees of magnitude, range, and units. This is why feature scaling is a crucial part of the data preprocessing stage."
   ]
  },
  {
   "cell_type": "code",
   "execution_count": 22,
   "id": "asian-customer",
   "metadata": {},
   "outputs": [],
   "source": [
    "num_attribs = ['CoapplicantIncome']\n",
    "train_num = train[num_attribs]"
   ]
  },
  {
   "cell_type": "code",
   "execution_count": 23,
   "id": "covered-debate",
   "metadata": {},
   "outputs": [],
   "source": [
    "num_pipeline = Pipeline(steps=[\n",
    "        ('imputer', SimpleImputer(strategy=\"median\")),\n",
    "        ('std_scaler', StandardScaler()),\n",
    "    ])"
   ]
  },
  {
   "cell_type": "markdown",
   "id": "horizontal-preparation",
   "metadata": {},
   "source": [
    "### Categorical Attributes Pipeline"
   ]
  },
  {
   "cell_type": "code",
   "execution_count": 24,
   "id": "devoted-charlotte",
   "metadata": {},
   "outputs": [],
   "source": [
    "# transform the target column\n",
    "\n",
    "target_values = {'Y': 0 , 'N' : 1}\n",
    "\n",
    "target = train['Loan_Status']\n",
    "train.drop('Loan_Status', axis=1, inplace=True)\n",
    "\n",
    "target = target.map(target_values)"
   ]
  },
  {
   "cell_type": "markdown",
   "id": "illegal-population",
   "metadata": {},
   "source": [
    "Machine Learning algorithms work better with numbers, so we will convert our categorical variables. We can transform our data to have a singular attribute per category. This process is called one-hot encoding (also known as dummy variables/attributes). "
   ]
  },
  {
   "cell_type": "code",
   "execution_count": 25,
   "id": "aboriginal-tower",
   "metadata": {},
   "outputs": [],
   "source": [
    "cat_attribs = ['Married', 'Dependents', 'Education', 'Property_Area', 'Credit_History']\n",
    "train_cat = train[cat_attribs]"
   ]
  },
  {
   "cell_type": "code",
   "execution_count": 26,
   "id": "tender-cowboy",
   "metadata": {},
   "outputs": [],
   "source": [
    "cat_pipeline = Pipeline(steps=[\n",
    "        ('imputer', SimpleImputer(strategy=\"most_frequent\", fill_value='missing')),\n",
    "        (\"onehot\", OneHotEncoder(handle_unknown='ignore')),\n",
    "    ])"
   ]
  },
  {
   "cell_type": "markdown",
   "id": "piano-bibliography",
   "metadata": {},
   "source": [
    "We can't forget about our target feature; 'Loan_Status', we need to transform this column."
   ]
  },
  {
   "cell_type": "markdown",
   "id": "enhanced-camping",
   "metadata": {},
   "source": [
    "### Full Pipeline"
   ]
  },
  {
   "cell_type": "code",
   "execution_count": 27,
   "id": "collectible-moment",
   "metadata": {},
   "outputs": [],
   "source": [
    "preprocess_pipeline = ColumnTransformer(transformers=[\n",
    "        (\"num\", num_pipeline, num_attribs),\n",
    "        (\"cat\", cat_pipeline, cat_attribs),\n",
    "    ])"
   ]
  },
  {
   "cell_type": "code",
   "execution_count": 28,
   "id": "worse-passion",
   "metadata": {},
   "outputs": [
    {
     "data": {
      "text/plain": [
       "array([[-0.55448733,  1.        ,  0.        , ...,  1.        ,\n",
       "         0.        ,  1.        ],\n",
       "       [-0.03873155,  0.        ,  1.        , ...,  0.        ,\n",
       "         0.        ,  1.        ],\n",
       "       [-0.55448733,  0.        ,  1.        , ...,  1.        ,\n",
       "         0.        ,  1.        ],\n",
       "       ...,\n",
       "       [-0.47240418,  0.        ,  1.        , ...,  1.        ,\n",
       "         0.        ,  1.        ],\n",
       "       [-0.55448733,  0.        ,  1.        , ...,  1.        ,\n",
       "         0.        ,  1.        ],\n",
       "       [-0.55448733,  1.        ,  0.        , ...,  0.        ,\n",
       "         1.        ,  0.        ]])"
      ]
     },
     "execution_count": 28,
     "metadata": {},
     "output_type": "execute_result"
    }
   ],
   "source": [
    "X = preprocess_pipeline.fit_transform(train)\n",
    "X"
   ]
  },
  {
   "cell_type": "code",
   "execution_count": 29,
   "id": "revolutionary-envelope",
   "metadata": {},
   "outputs": [
    {
     "data": {
      "text/plain": [
       "(614, 14)"
      ]
     },
     "execution_count": 29,
     "metadata": {},
     "output_type": "execute_result"
    }
   ],
   "source": [
    "X.shape"
   ]
  },
  {
   "cell_type": "code",
   "execution_count": 30,
   "id": "framed-church",
   "metadata": {},
   "outputs": [],
   "source": [
    "y = target"
   ]
  },
  {
   "cell_type": "markdown",
   "id": "clear-suspect",
   "metadata": {},
   "source": [
    "### Train-Test Split"
   ]
  },
  {
   "cell_type": "code",
   "execution_count": 31,
   "id": "surprising-climb",
   "metadata": {},
   "outputs": [],
   "source": [
    "from sklearn.model_selection import train_test_split\n",
    "x_train, x_test, y_train, y_test = train_test_split(X, y, test_size=0.25, random_state=42)"
   ]
  },
  {
   "cell_type": "markdown",
   "id": "seventh-indian",
   "metadata": {},
   "source": [
    "<a id=\"t5.\"></a>\n",
    "## 5. Shortlisting Promising ML Models"
   ]
  },
  {
   "cell_type": "markdown",
   "id": "loaded-sample",
   "metadata": {},
   "source": [
    "We will use 5 of the most used models for training binary classifying ptoblems.\n",
    "\n",
    "* Logistic Regression\n",
    "* KNeighbors Classifier\n",
    "* SVC\n",
    "* Decision Tree Classifier\n",
    "* Random Forest Classifier"
   ]
  },
  {
   "cell_type": "code",
   "execution_count": 32,
   "id": "frozen-correlation",
   "metadata": {},
   "outputs": [],
   "source": [
    "# classify function\n",
    "from sklearn.model_selection import cross_val_score\n",
    "def classify(model, x, y):\n",
    "    x_train, x_test, y_train, y_test = train_test_split(X, y, test_size=0.25, random_state=42)\n",
    "    model.fit(x_train, y_train)\n",
    "    print(\"Accuracy is\", model.score(x_test, y_test)*100)\n",
    "    # cross validation - it is used for better validation of model\n",
    "    # eg: cv-5, train-4, test-1\n",
    "    score = cross_val_score(model, x, y, cv=5)\n",
    "    print(\"Cross validation is\",np.mean(score)*100)"
   ]
  },
  {
   "cell_type": "markdown",
   "id": "liked-teaching",
   "metadata": {},
   "source": [
    "As we fit and train our models, we will be using cross-validation to have an idea of how good our model is."
   ]
  },
  {
   "cell_type": "code",
   "execution_count": 33,
   "id": "minute-basket",
   "metadata": {},
   "outputs": [
    {
     "name": "stdout",
     "output_type": "stream",
     "text": [
      "Accuracy is 77.92207792207793\n",
      "Cross validation is 80.9462881514061\n"
     ]
    }
   ],
   "source": [
    "from sklearn.linear_model import LogisticRegression\n",
    "\n",
    "model = LogisticRegression(random_state=64)\n",
    "classify(model, X, y)"
   ]
  },
  {
   "cell_type": "code",
   "execution_count": 34,
   "id": "indonesian-baptist",
   "metadata": {},
   "outputs": [
    {
     "name": "stdout",
     "output_type": "stream",
     "text": [
      "Accuracy is 75.97402597402598\n",
      "Cross validation is 76.7119818739171\n"
     ]
    }
   ],
   "source": [
    "from sklearn.neighbors import KNeighborsClassifier\n",
    "\n",
    "model = KNeighborsClassifier()\n",
    "classify(model, X, y)"
   ]
  },
  {
   "cell_type": "code",
   "execution_count": 35,
   "id": "cultural-chemistry",
   "metadata": {},
   "outputs": [
    {
     "name": "stdout",
     "output_type": "stream",
     "text": [
      "Accuracy is 77.92207792207793\n",
      "Cross validation is 80.9462881514061\n"
     ]
    }
   ],
   "source": [
    "from sklearn.svm import SVC\n",
    "\n",
    "model = SVC(random_state=64)\n",
    "classify(model, X, y)"
   ]
  },
  {
   "cell_type": "code",
   "execution_count": 36,
   "id": "social-saskatchewan",
   "metadata": {},
   "outputs": [
    {
     "name": "stdout",
     "output_type": "stream",
     "text": [
      "Accuracy is 76.62337662337663\n",
      "Cross validation is 74.10502465680395\n"
     ]
    }
   ],
   "source": [
    "from sklearn.tree import DecisionTreeClassifier\n",
    "\n",
    "model = DecisionTreeClassifier(random_state=64)\n",
    "classify(model, X, y)"
   ]
  },
  {
   "cell_type": "code",
   "execution_count": 37,
   "id": "central-parcel",
   "metadata": {},
   "outputs": [
    {
     "name": "stdout",
     "output_type": "stream",
     "text": [
      "Accuracy is 76.62337662337663\n",
      "Cross validation is 75.077968812475\n"
     ]
    }
   ],
   "source": [
    "from sklearn.ensemble import RandomForestClassifier\n",
    "\n",
    "model = RandomForestClassifier(n_estimators=100, random_state=64)\n",
    "classify(model, X, y)"
   ]
  },
  {
   "cell_type": "markdown",
   "id": "right-option",
   "metadata": {},
   "source": [
    "<a id=\"t6.\"></a>\n",
    "## 6. Fine-Tune the System"
   ]
  },
  {
   "cell_type": "markdown",
   "id": "quick-limit",
   "metadata": {},
   "source": [
    "### Hyperparameter tuning"
   ]
  },
  {
   "cell_type": "markdown",
   "id": "focal-lunch",
   "metadata": {},
   "source": [
    "First, we will need the help of a correlation matrix to see if we made the right decision when choosing features or we should remove or add another feature to our  models."
   ]
  },
  {
   "cell_type": "markdown",
   "id": "african-ministry",
   "metadata": {},
   "source": [
    "### Outliers"
   ]
  },
  {
   "cell_type": "markdown",
   "id": "changed-marsh",
   "metadata": {},
   "source": [
    "### Features Selection"
   ]
  },
  {
   "cell_type": "code",
   "execution_count": null,
   "id": "announced-tours",
   "metadata": {},
   "outputs": [],
   "source": []
  },
  {
   "cell_type": "markdown",
   "id": "military-machine",
   "metadata": {},
   "source": [
    "<a id=\"t7.\"></a>\n",
    "## 7. Presenting the Solution"
   ]
  },
  {
   "cell_type": "code",
   "execution_count": null,
   "id": "streaming-syndicate",
   "metadata": {},
   "outputs": [],
   "source": []
  },
  {
   "cell_type": "markdown",
   "id": "olive-bicycle",
   "metadata": {},
   "source": [
    "### Let's predict on our test set"
   ]
  },
  {
   "cell_type": "code",
   "execution_count": 42,
   "id": "limited-princeton",
   "metadata": {},
   "outputs": [
    {
     "data": {
      "text/plain": [
       "array([[-0.55448733,  0.        ,  1.        , ...,  1.        ,\n",
       "         0.        ,  1.        ],\n",
       "       [-0.04146765,  0.        ,  1.        , ...,  1.        ,\n",
       "         0.        ,  1.        ],\n",
       "       [ 0.06113628,  0.        ,  1.        , ...,  1.        ,\n",
       "         0.        ,  1.        ],\n",
       "       ...,\n",
       "       [ 0.12714481,  1.        ,  0.        , ...,  0.        ,\n",
       "         0.        ,  1.        ],\n",
       "       [ 0.26395006,  0.        ,  1.        , ...,  0.        ,\n",
       "         0.        ,  1.        ],\n",
       "       [-0.55448733,  1.        ,  0.        , ...,  0.        ,\n",
       "         0.        ,  1.        ]])"
      ]
     },
     "execution_count": 42,
     "metadata": {},
     "output_type": "execute_result"
    }
   ],
   "source": [
    "# safety copy of our the test df\n",
    "test = test_df.copy()\n",
    "\n",
    "X_test = preprocess_pipeline.transform(test)\n",
    "X_test"
   ]
  },
  {
   "cell_type": "code",
   "execution_count": 43,
   "id": "mounted-offering",
   "metadata": {},
   "outputs": [
    {
     "ename": "NameError",
     "evalue": "name 'svm_clf' is not defined",
     "output_type": "error",
     "traceback": [
      "\u001b[0;31m---------------------------------------------------------------------------\u001b[0m",
      "\u001b[0;31mNameError\u001b[0m                                 Traceback (most recent call last)",
      "\u001b[0;32m<ipython-input-43-98e444964d77>\u001b[0m in \u001b[0;36m<module>\u001b[0;34m\u001b[0m\n\u001b[0;32m----> 1\u001b[0;31m \u001b[0my_pred\u001b[0m \u001b[0;34m=\u001b[0m \u001b[0msvm_clf\u001b[0m\u001b[0;34m.\u001b[0m\u001b[0mpredict\u001b[0m\u001b[0;34m(\u001b[0m\u001b[0mX_test\u001b[0m\u001b[0;34m)\u001b[0m\u001b[0;34m\u001b[0m\u001b[0;34m\u001b[0m\u001b[0m\n\u001b[0m",
      "\u001b[0;31mNameError\u001b[0m: name 'svm_clf' is not defined"
     ]
    }
   ],
   "source": [
    "y_pred = svm_clf.predict(X_test)"
   ]
  },
  {
   "cell_type": "code",
   "execution_count": null,
   "id": "dominant-investigator",
   "metadata": {},
   "outputs": [],
   "source": []
  }
 ],
 "metadata": {
  "kernelspec": {
   "display_name": "Python 3",
   "language": "python",
   "name": "python3"
  },
  "language_info": {
   "codemirror_mode": {
    "name": "ipython",
    "version": 3
   },
   "file_extension": ".py",
   "mimetype": "text/x-python",
   "name": "python",
   "nbconvert_exporter": "python",
   "pygments_lexer": "ipython3",
   "version": "3.8.6"
  }
 },
 "nbformat": 4,
 "nbformat_minor": 5
}
