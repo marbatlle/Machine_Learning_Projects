{
 "cells": [
  {
   "cell_type": "markdown",
   "id": "parliamentary-zambia",
   "metadata": {},
   "source": [
    "# House Prices - Linear model"
   ]
  },
  {
   "cell_type": "markdown",
   "id": "elementary-cursor",
   "metadata": {},
   "source": [
    "Welcome! Let's do some regression."
   ]
  },
  {
   "cell_type": "markdown",
   "id": "geographic-terrorist",
   "metadata": {},
   "source": [
    "TOC:\n",
    "1. [Problem Framing](#t1.)\n",
    "2. [Assess Data Quality & Missing Values](#t2.)\n",
    "3. [Exploratory Data Analysis](#t3.)\n",
    "4. [Prepare the Data](#t4.)\n",
    "5. [Shortlisting Promising ML Models](#t5.)\n",
    "6. [Fine-Tune the System](#t6.)\n",
    "7. [Presenting the Solution](#t7.)"
   ]
  },
  {
   "cell_type": "markdown",
   "id": "textile-worry",
   "metadata": {},
   "source": [
    "References:\n",
    "    * https://www.kaggle.com/apapiu/regularized-linear-models\n",
    "    * https://www.kaggle.com/masumrumi/a-detailed-regression-guide-with-house-pricing"
   ]
  },
  {
   "cell_type": "markdown",
   "id": "unlike-turtle",
   "metadata": {},
   "source": [
    "<a id=\"t1.\"></a>\n",
    "## 1. Problem Framing"
   ]
  },
  {
   "cell_type": "markdown",
   "id": "acquired-factory",
   "metadata": {},
   "source": [
    "### Problem Definition"
   ]
  },
  {
   "cell_type": "markdown",
   "id": "charged-astronomy",
   "metadata": {},
   "source": [
    "This is a standard supervised regression task. Whit 79 explanatory variables describing most aspects of residential homes in Ames, Iowa, this competition challenges you to predict the final price of each home.\n",
    "\n",
    "Goals: \n",
    "* Do a comprehensive data analysis along with visualizations.\n",
    "* Learn/review/explain different regression algorithms and its hyperparameters.\n",
    "* Create models that are well equipped to predict better sale price of the the house."
   ]
  },
  {
   "cell_type": "markdown",
   "id": "sweet-gothic",
   "metadata": {},
   "source": [
    "### The Data"
   ]
  },
  {
   "cell_type": "markdown",
   "id": "plain-syndicate",
   "metadata": {},
   "source": [
    "The Ames Housing dataset was compiled by Dean De Cock for use in data science education. It's an incredible alternative for data scientists looking for a modernized and expanded version of the often cited Boston Housing dataset. \n",
    "\n",
    "All the different variables come described at the file data_description.txt."
   ]
  },
  {
   "cell_type": "markdown",
   "id": "double-grammar",
   "metadata": {},
   "source": [
    "### Preparing the tools"
   ]
  },
  {
   "cell_type": "code",
   "execution_count": 3,
   "id": "annoying-services",
   "metadata": {},
   "outputs": [
    {
     "name": "stdout",
     "output_type": "stream",
     "text": [
      "Set up completed\n"
     ]
    }
   ],
   "source": [
    "#basic libraries\n",
    "import sys\n",
    "import numpy as np\n",
    "import pandas as pd\n",
    "import os\n",
    "import warnings\n",
    "\n",
    "#seed the project\n",
    "np.random.seed(64)\n",
    "\n",
    "#ploting libraries\n",
    "%matplotlib inline\n",
    "import matplotlib.pyplot as plt\n",
    "import missingno\n",
    "from scipy.stats import skew\n",
    "from scipy.stats.stats import pearsonr\n",
    "import seaborn as sns\n",
    "sns.set(context='notebook', style='whitegrid', palette='pastel', font='sans-serif', font_scale=1, color_codes=False, rc=None)\n",
    "\n",
    "#warning hadle\n",
    "warnings.filterwarnings(\"ignore\")\n",
    "\n",
    "print(\"Set up completed\")"
   ]
  },
  {
   "cell_type": "markdown",
   "id": "everyday-savings",
   "metadata": {},
   "source": [
    "### Load the Data"
   ]
  },
  {
   "cell_type": "code",
   "execution_count": null,
   "id": "structural-excess",
   "metadata": {},
   "outputs": [],
   "source": [
    "# Import train and test data\n",
    "train_df = pd.read_csv('data/loan_train.csv')\n",
    "test_df = pd.read_csv('data/loan_test.csv')"
   ]
  },
  {
   "cell_type": "code",
   "execution_count": null,
   "id": "tracked-simulation",
   "metadata": {},
   "outputs": [],
   "source": []
  },
  {
   "cell_type": "code",
   "execution_count": null,
   "id": "statutory-correspondence",
   "metadata": {},
   "outputs": [],
   "source": []
  },
  {
   "cell_type": "code",
   "execution_count": null,
   "id": "earned-creator",
   "metadata": {},
   "outputs": [],
   "source": []
  },
  {
   "cell_type": "code",
   "execution_count": null,
   "id": "respiratory-french",
   "metadata": {},
   "outputs": [],
   "source": []
  },
  {
   "cell_type": "markdown",
   "id": "opening-tonight",
   "metadata": {},
   "source": [
    "<a id=\"t2.\"></a>\n",
    "## 2. Data Quality & Missing Values Assessment"
   ]
  },
  {
   "cell_type": "markdown",
   "id": "owned-equilibrium",
   "metadata": {},
   "source": [
    "<a id=\"t2.\"></a>\n",
    "## 3. Exploration Data Analysis"
   ]
  },
  {
   "cell_type": "markdown",
   "id": "according-cleanup",
   "metadata": {},
   "source": [
    "<a id=\"t4.\"></a>\n",
    "## 4. Preparing the Data"
   ]
  },
  {
   "cell_type": "markdown",
   "id": "fuzzy-talent",
   "metadata": {},
   "source": [
    "<a id=\"t5.\"></a>\n",
    "## 5. Shortlisting Promising ML Models"
   ]
  },
  {
   "cell_type": "markdown",
   "id": "wrapped-louisville",
   "metadata": {},
   "source": [
    "<a id=\"t6.\"></a>\n",
    "## 6. Fine-Tune the Model"
   ]
  },
  {
   "cell_type": "markdown",
   "id": "italian-eagle",
   "metadata": {},
   "source": [
    "<a id=\"t7.\"></a>\n",
    "## 7. Presenting the Solution"
   ]
  },
  {
   "cell_type": "code",
   "execution_count": null,
   "id": "numeric-twenty",
   "metadata": {},
   "outputs": [],
   "source": []
  }
 ],
 "metadata": {
  "kernelspec": {
   "display_name": "Python 3.8.6 64-bit ('ml': conda)",
   "language": "python",
   "name": "python38664bitmlconda7b4ac6cde5954b3f8d48cd22e79fbecd"
  },
  "language_info": {
   "codemirror_mode": {
    "name": "ipython",
    "version": 3
   },
   "file_extension": ".py",
   "mimetype": "text/x-python",
   "name": "python",
   "nbconvert_exporter": "python",
   "pygments_lexer": "ipython3",
   "version": "3.8.6"
  }
 },
 "nbformat": 4,
 "nbformat_minor": 5
}
